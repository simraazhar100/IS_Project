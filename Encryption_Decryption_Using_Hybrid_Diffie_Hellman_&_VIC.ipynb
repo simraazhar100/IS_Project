{
  "nbformat": 4,
  "nbformat_minor": 0,
  "metadata": {
    "colab": {
      "provenance": []
    },
    "kernelspec": {
      "name": "python3",
      "display_name": "Python 3"
    },
    "language_info": {
      "name": "python"
    }
  },
  "cells": [
    {
      "cell_type": "markdown",
      "source": [
        "# Diffie-Hellman"
      ],
      "metadata": {
        "id": "huWPv_R74t-e"
      }
    },
    {
      "cell_type": "code",
      "execution_count": 1,
      "metadata": {
        "colab": {
          "base_uri": "https://localhost:8080/"
        },
        "id": "9HZpuKMIuoo5",
        "outputId": "0b7429ee-343f-4958-f324-b4f947554622"
      },
      "outputs": [
        {
          "output_type": "stream",
          "name": "stdout",
          "text": [
            "Enter P : 34\n",
            "Number Is Not Prime, Please Enter Again!\n",
            "Enter P : 23\n",
            "Enter The Primitive Root Of 23 : 5\n",
            "Enter The Private Key Of User 1 : 7\n",
            "Enter The Private Key Of User 2 : 9\n",
            "\n",
            "Secret Key For User 1 Is 7\n",
            "Secret Key For User 2 Is 7\n",
            "\n",
            "Keys Have Been Exchanged Successfully\n"
          ]
        }
      ],
      "source": [
        "# Diffie-Hellman\n",
        "\n",
        "def prime_checker(p):\n",
        "\t# Checks If the number entered is a Prime Number or not\n",
        "\tif p < 1:\n",
        "\t\treturn -1\n",
        "\telif p > 1:\n",
        "\t\tif p == 2:\n",
        "\t\t\treturn 1\n",
        "\t\tfor i in range(2, p):\n",
        "\t\t\tif p % i == 0:\n",
        "\t\t\t\treturn -1\n",
        "\t\t\treturn 1\n",
        "\n",
        "\n",
        "def primitive_check(g, p, L):\n",
        "\t# Checks If The Entered Number Is A Primitive Root Or Not\n",
        "\tfor i in range(1, p):\n",
        "\t\tL.append(pow(g, i) % p)\n",
        "\tfor i in range(1, p):\n",
        "\t\tif L.count(i) > 1:\n",
        "\t\t\tL.clear()\n",
        "\t\t\treturn -1\n",
        "\t\treturn 1\n",
        "\n",
        "\n",
        "l = []\n",
        "while 1:\n",
        "\tP = int(input(\"Enter P : \"))\n",
        "\tif prime_checker(P) == -1:\n",
        "\t\tprint(\"Number Is Not Prime, Please Enter Again!\")\n",
        "\t\tcontinue\n",
        "\tbreak\n",
        "\n",
        "while 1:\n",
        "\tG = int(input(f\"Enter The Primitive Root Of {P} : \"))\n",
        "\tif primitive_check(G, P, l) == -1:\n",
        "\t\tprint(f\"Number Is Not A Primitive Root Of {P}, Please Try Again!\")\n",
        "\t\tcontinue\n",
        "\tbreak\n",
        "\n",
        "# Private Keys\n",
        "x1, x2 = int(input(\"Enter The Private Key Of User 1 : \")), int(\n",
        "\tinput(\"Enter The Private Key Of User 2 : \"))\n",
        "while 1:\n",
        "\tif x1 >= P or x2 >= P:\n",
        "\t\tprint(f\"Private Key Of Both The Users Should Be Less Than {P}!\")\n",
        "\t\tcontinue\n",
        "\tbreak\n",
        "\n",
        "# Calculate Public Keys\n",
        "y1, y2 = pow(G, x1) % P, pow(G, x2) % P\n",
        "\n",
        "# Generate Secret Keys\n",
        "k1, k2 = pow(y2, x1) % P, pow(y1, x2) % P\n",
        "\n",
        "print(f\"\\nSecret Key For User 1 Is {k1}\\nSecret Key For User 2 Is {k2}\\n\")\n",
        "\n",
        "if k1 == k2:\n",
        "\tprint(\"Keys Have Been Exchanged Successfully\")\n",
        "else:\n",
        "\tprint(\"Keys Have Not Been Exchanged Successfully\")\n"
      ]
    },
    {
      "cell_type": "markdown",
      "source": [
        "# Key Generation\n",
        "\n",
        "1.   Secret Key to Alphabet & Removal of Repeat\n",
        "2.   Alphabet to Numeric & Removal of Repeat\n"
      ],
      "metadata": {
        "id": "qqHMa3l59-wv"
      }
    },
    {
      "cell_type": "code",
      "source": [
        "import string\n",
        "\n",
        "def remove_duplicates(word):\n",
        "    return \"\".join(sorted(set(word), key=word.index))\n",
        "\n",
        "def number_to_string(number):\n",
        "    number_strings = {\n",
        "        0: 'zero',\n",
        "        1: 'one',\n",
        "        2: 'two',\n",
        "        3: 'three',\n",
        "        4: 'four',\n",
        "        5: 'five',\n",
        "        6: 'six',\n",
        "        7: 'seven',\n",
        "        8: 'eight',\n",
        "        9: 'nine'\n",
        "    }\n",
        "\n",
        "    word = number_strings.get(number, \"Not found\")\n",
        "    return remove_duplicates(word)\n",
        "\n",
        "\n",
        "result_string = number_to_string(k1)\n",
        "print(f\"The secret key representation of {k1} is: {result_string}\")"
      ],
      "metadata": {
        "colab": {
          "base_uri": "https://localhost:8080/"
        },
        "id": "D1B-mJFd6a1P",
        "outputId": "2beba6b6-f1a8-4292-e504-f10400d7a7ad"
      },
      "execution_count": 30,
      "outputs": [
        {
          "output_type": "stream",
          "name": "stdout",
          "text": [
            "The secret key representation of 7 is: sevn\n"
          ]
        }
      ]
    },
    {
      "cell_type": "code",
      "source": [
        "import string\n",
        "\n",
        "alphabet_dict = {char: i for i, char in enumerate(string.ascii_lowercase)}\n",
        "# Adding a space as a key mapped to -1\n",
        "alphabet_dict[' '] = -1\n",
        "\n",
        "def string_to_numbers(input_string):\n",
        "    numbers = [alphabet_dict[char] for char in input_string.lower()]\n",
        "    return numbers\n",
        "\n",
        "result_numbers = string_to_numbers(result_string)\n",
        "print(f\"The corresponding numbers for '{result_string}' are: {result_numbers}\")\n"
      ],
      "metadata": {
        "colab": {
          "base_uri": "https://localhost:8080/"
        },
        "id": "Lsy2U1757aBX",
        "outputId": "67161681-1fc5-4f80-9141-d4fdc6127ea2"
      },
      "execution_count": 31,
      "outputs": [
        {
          "output_type": "stream",
          "name": "stdout",
          "text": [
            "The corresponding numbers for 'sevn' are: [18, 4, 21, 13]\n"
          ]
        }
      ]
    },
    {
      "cell_type": "code",
      "source": [
        "from collections import OrderedDict\n",
        "# Convert integers to strings and join them into a single string\n",
        "combined_string = ''.join(str(num) for num in result_numbers)\n",
        "print(combined_string)\n",
        "unique_chars = ''.join(OrderedDict.fromkeys(combined_string))\n",
        "\n",
        "print(unique_chars)"
      ],
      "metadata": {
        "colab": {
          "base_uri": "https://localhost:8080/"
        },
        "id": "NEn9HjGj6ow5",
        "outputId": "5f56f96d-a484-492b-e000-8c797a296df0"
      },
      "execution_count": 32,
      "outputs": [
        {
          "output_type": "stream",
          "name": "stdout",
          "text": [
            "1842113\n",
            "18423\n"
          ]
        }
      ]
    },
    {
      "cell_type": "markdown",
      "source": [
        "# Vic"
      ],
      "metadata": {
        "id": "T3GatGS-4zCJ"
      }
    },
    {
      "cell_type": "code",
      "source": [
        "pip install secretpy"
      ],
      "metadata": {
        "colab": {
          "base_uri": "https://localhost:8080/"
        },
        "id": "MemrwmaS45UZ",
        "outputId": "52e1f753-ec8b-4930-cec1-e80058d071fa"
      },
      "execution_count": 7,
      "outputs": [
        {
          "output_type": "stream",
          "name": "stdout",
          "text": [
            "Collecting secretpy\n",
            "  Downloading secretpy-0.12.0-py2.py3-none-any.whl (41 kB)\n",
            "\u001b[2K     \u001b[90m━━━━━━━━━━━━━━━━━━━━━━━━━━━━━━━━━━━━━━━━\u001b[0m \u001b[32m41.1/41.1 kB\u001b[0m \u001b[31m1.5 MB/s\u001b[0m eta \u001b[36m0:00:00\u001b[0m\n",
            "\u001b[?25hInstalling collected packages: secretpy\n",
            "Successfully installed secretpy-0.12.0\n"
          ]
        }
      ]
    },
    {
      "cell_type": "code",
      "source": [
        "from secretpy import Vic, CryptMachine\n",
        "from secretpy.cmdecorators import SaveAll\n",
        "\n",
        "\n",
        "def encdec(machine, plaintext):\n",
        "    print(\"----------------------------------\")\n",
        "    print(plaintext)\n",
        "    enc = machine.encrypt(plaintext)\n",
        "    print(enc)\n",
        "    print(machine.decrypt(enc))\n",
        "\n",
        "\n",
        "key = unique_chars\n",
        "cm = SaveAll(CryptMachine(Vic(), key))\n",
        "alphabet = [\n",
        "    \"e\", \"t\", \"\", \"a\", \"o\", \"n\", \"\", \"r\", \"i\", \"s\",\n",
        "    \"b\", \"c\", \"d\", \"f\", \"g\", \"h\", \"j\", \"k\", \"l\", \"m\",\n",
        "    \"p\", \"q\", \"/\", \"u\", \"v\", \"w\", \"x\", \"y\", \"z\", \".\",\n",
        "]\n",
        "plaintext = \"Attack at dawn!\"\n",
        "cm.set_alphabet(alphabet)\n",
        "encdec(cm, plaintext)"
      ],
      "metadata": {
        "colab": {
          "base_uri": "https://localhost:8080/"
        },
        "id": "Josa0u4K4_pm",
        "outputId": "22084006-c54c-42ea-e2d3-afeb31ad949e"
      },
      "execution_count": 33,
      "outputs": [
        {
          "output_type": "stream",
          "name": "stdout",
          "text": [
            "----------------------------------\n",
            "Attack at dawn!\n",
            "Osnnnb tn oaer!ii\n",
            "Attack at daw!\n"
          ]
        }
      ]
    },
    {
      "cell_type": "code",
      "source": [],
      "metadata": {
        "id": "OEDfpBpP5JSo"
      },
      "execution_count": null,
      "outputs": []
    }
  ]
}